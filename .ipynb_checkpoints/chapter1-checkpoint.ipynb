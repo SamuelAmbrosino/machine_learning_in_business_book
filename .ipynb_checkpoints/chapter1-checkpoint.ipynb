{
 "cells": [
  {
   "cell_type": "markdown",
   "id": "e31776c7-0140-4779-ba00-c4c942178194",
   "metadata": {},
   "source": [
    "### Exercise 1:\n",
    "***What is the difference between machine learning and artificial intelligence?***\n",
    "\n",
    "### Solution 1:\n",
    "Artificial Intelligence (AI) is the broad field of creating machines that mimic human intelligence, including rule-based and learning-based systems. Machine Learning (ML) is a subset of AI that focuses on algorithms that learn from data to improve over time without explicit programming. In short, **all ML is AI, but not all AI is ML**."
   ]
  }
 ],
 "metadata": {
  "kernelspec": {
   "display_name": "Python [conda env:base] *",
   "language": "python",
   "name": "conda-base-py"
  },
  "language_info": {
   "codemirror_mode": {
    "name": "ipython",
    "version": 3
   },
   "file_extension": ".py",
   "mimetype": "text/x-python",
   "name": "python",
   "nbconvert_exporter": "python",
   "pygments_lexer": "ipython3",
   "version": "3.12.2"
  }
 },
 "nbformat": 4,
 "nbformat_minor": 5
}
